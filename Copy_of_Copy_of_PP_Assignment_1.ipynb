{
  "nbformat": 4,
  "nbformat_minor": 0,
  "metadata": {
    "colab": {
      "provenance": [],
      "include_colab_link": true
    },
    "kernelspec": {
      "name": "python3",
      "display_name": "Python 3"
    },
    "language_info": {
      "name": "python"
    }
  },
  "cells": [
    {
      "cell_type": "markdown",
      "metadata": {
        "id": "view-in-github",
        "colab_type": "text"
      },
      "source": [
        "<a href=\"https://colab.research.google.com/github/chiragnaathryea/PathPlanningERC/blob/main/Copy_of_Copy_of_PP_Assignment_1.ipynb\" target=\"_parent\"><img src=\"https://colab.research.google.com/assets/colab-badge.svg\" alt=\"Open In Colab\"/></a>"
      ]
    },
    {
      "cell_type": "markdown",
      "source": [
        "                                          Path Planning Assignment 1\n",
        "Hello Guys, This is the assignment I want you guys to solve. This will help you guys to understand the basics of python and allow you guys to impelement some of the things that you have learnt up until now.For this assignment , I want you to complete the functions needed to solve the problem given. To properly complete the assignment, USE THE INPUTS GIVEN IN THE EXAMPLE.If you are finding some difficulty solving any one of these problems , please feel free to contact one of us"
      ],
      "metadata": {
        "id": "m4_Ig_EQyB1r"
      }
    },
    {
      "cell_type": "markdown",
      "source": [
        "Q1) Given an array of integers nums and an integer target, return indices of the two numbers such that they add up to target.\n",
        "You may assume that each input would have exactly one solution, and you may not use the same element twice.\n",
        "You can return the answer in any order.\n",
        "\n",
        "Example :\n",
        "\n",
        "Input: nums = [2,7,11,15], target = 9\n",
        "Output: [0,1]\n",
        "Explanation: Because nums[0] + nums[1] == 9, we return [0, 1]."
      ],
      "metadata": {
        "id": "zkjgH-tmyXkt"
      }
    },
    {
      "cell_type": "code",
      "execution_count": 1,
      "metadata": {
        "id": "BozbO_hWx3wJ",
        "colab": {
          "base_uri": "https://localhost:8080/"
        },
        "outputId": "094cbdaf-19e1-4ca5-8c94-2ef589959f63"
      },
      "outputs": [
        {
          "output_type": "stream",
          "name": "stdout",
          "text": [
            "Enter the list:[2,7,11,15]\n",
            "Target=9\n",
            "[0,1]\n"
          ]
        }
      ],
      "source": [
        "def two_sum(list,target):\n",
        "    for i in range(len(list)) :\n",
        "        for j in range(i+1,len(list)):\n",
        "            if list[i]+list[j]==target:\n",
        "                print(f\"[{i},{j}]\") \n",
        "\n",
        "x=[2,7,11,15,3,6]\n",
        "y=9\n",
        "a = eval(input(\"Enter the list:\"))\n",
        "b = int(input(\"Target=\"))\n",
        "two_sum(a, b)"
      ]
    },
    {
      "cell_type": "markdown",
      "source": [
        "Q2) Implement pow(x, n), which calculates x raised to the power n (i.e., xn).\n",
        "\n",
        "Example :\n",
        "\n",
        "Input: x = 2.00000, n = 10\n",
        "Output: 1024.00000"
      ],
      "metadata": {
        "id": "WXPNSBGaylvH"
      }
    },
    {
      "cell_type": "code",
      "source": [
        "import math as m\n",
        "\n",
        "def power(b,p):\n",
        "        print(m.pow(b,p))\n",
        "\n",
        "x=int(input(\"Base:\"))\n",
        "n=int(input(\"Power:\"))\n",
        "power(x,n)\n",
        "\n",
        "\n"
      ],
      "metadata": {
        "id": "JU-IyV82y1ME",
        "colab": {
          "base_uri": "https://localhost:8080/"
        },
        "outputId": "6f039006-2730-4096-f539-b95b849b9a90"
      },
      "execution_count": 2,
      "outputs": [
        {
          "output_type": "stream",
          "name": "stdout",
          "text": [
            "Base:9\n",
            "Power:3\n",
            "729.0\n"
          ]
        }
      ]
    },
    {
      "cell_type": "markdown",
      "source": [
        "Q3) You are given a large integer represented as an integer, where each digits[i] is the ith digit of the integer. The digits are ordered from most significant to least significant in left-to-right order. The large integer does not contain any leading 0's.\n",
        "\n",
        "Increment the large integer by one and return the resulting array of digits.\n",
        "\n",
        "Example :\n",
        "\n",
        "Input: number  = 123 \n",
        "Output: [1,2,4]\n",
        "Explanation: The array represents the integer 123.\n",
        "Incrementing by one gives 123 + 1 = 124.\n",
        "Thus, the result should be [1,2,4]"
      ],
      "metadata": {
        "id": "GmtBxLgGy_pU"
      }
    },
    {
      "cell_type": "code",
      "source": [
        "def increment(number):\n",
        "    b=[]\n",
        "    number=number+1\n",
        "    a=str(number)  \n",
        "    for i in range(len(a)):\n",
        "        b.append((int)(a[i])) \n",
        "    print(b) \n",
        "\n",
        "num=int(input(\"Number:\"))\n",
        "increment(num)\n",
        "\n",
        "\n"
      ],
      "metadata": {
        "id": "svlf0F3IzFFk",
        "colab": {
          "base_uri": "https://localhost:8080/"
        },
        "outputId": "58d069ab-5757-4dc3-b5d9-5ce0dd3deb0b"
      },
      "execution_count": 3,
      "outputs": [
        {
          "output_type": "stream",
          "name": "stdout",
          "text": [
            "Number:9\n",
            "[1, 0]\n"
          ]
        }
      ]
    },
    {
      "cell_type": "markdown",
      "source": [
        "Q4) You are given an array prices where prices[i] is the price of a given stock on the ith day.\n",
        "You want to maximize your profit by choosing a single day to buy one stock and choosing a different day in the future to sell that stock.\n",
        "Return the maximum profit you can achieve from this transaction. If you cannot achieve any profit, return 0.\n",
        "\n",
        "Example :\n",
        "\n",
        "Input: prices = [7,1,5,3,6,4]\n",
        "Output: 5\n",
        "Explanation: Buy on day 2 (price = 1) and sell on day 5 (price = 6), profit = 6-1 = 5.\n",
        "Note that buying on day 2 and selling on day 1 is not allowed because you must buy before you sell."
      ],
      "metadata": {
        "id": "UKx7-lrVzLFT"
      }
    },
    {
      "cell_type": "code",
      "source": [
        "def max_profit(prices) :\n",
        "    b=[]\n",
        "    for i in range(len(prices)) :\n",
        "        for j in range(i+1,len(prices)): \n",
        "            b.append(prices[j]-prices[i]) \n",
        "    if(max(b)>0): \n",
        "        print(max(b))\n",
        "    else:\n",
        "        print('no profit') \n",
        "\n",
        "a = eval(input(\"Prices list: \"))\n",
        "max_profit(a) "
      ],
      "metadata": {
        "id": "rhfw0atozJsQ",
        "colab": {
          "base_uri": "https://localhost:8080/"
        },
        "outputId": "1142a4be-1bd3-4a35-b0c0-9388ee8b5e0a"
      },
      "execution_count": 4,
      "outputs": [
        {
          "output_type": "stream",
          "name": "stdout",
          "text": [
            "Prices list: [7,1,5,3,6,4]\n",
            "5\n"
          ]
        }
      ]
    },
    {
      "cell_type": "markdown",
      "source": [
        "Q5) Given an string x, return true if x is a \n",
        "palindrome, and false otherwise.\n",
        "\n",
        "Example :\n",
        "\n",
        "Input: x = 121\n",
        "Output: true\n",
        "Explanation: 121 reads as 121 from left to right and from right to left.\n"
      ],
      "metadata": {
        "id": "X6K-pIeJzmil"
      }
    },
    {
      "cell_type": "code",
      "source": [
        "def Palindrome(s):\n",
        "    if s==s[::-1]:\n",
        "        print(\"True\")\n",
        "    else:\n",
        "        print(\"False\")\n",
        "a=input(\"Pallindrome:\")\n",
        "Palindrome(a)"
      ],
      "metadata": {
        "id": "fYhVnOLb0bos",
        "colab": {
          "base_uri": "https://localhost:8080/"
        },
        "outputId": "6da09e76-a154-49d4-b82a-8cea51b9e119"
      },
      "execution_count": 8,
      "outputs": [
        {
          "output_type": "stream",
          "name": "stdout",
          "text": [
            "Pallindrome:121\n",
            "True\n"
          ]
        }
      ]
    }
  ]
}